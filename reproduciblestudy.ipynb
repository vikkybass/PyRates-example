{
 "cells": [
  {
   "cell_type": "markdown",
   "metadata": {},
   "source": [
    "# Reproducible Research for Pyrates "
   ]
  },
  {
   "cell_type": "markdown",
   "metadata": {},
   "source": [
    "## Title: Complex Rupture Features and Triggering during the 2022 Chishang Earthquake Sequence in Eastern Taiwan Estimated by InSAR, GPS, Strong Motion, and Teleseismic Waveform Evidence \n",
    "You can go to this [link](https://doi.org/10.1785/0220230358)\n",
    "\n",
    "The study intends to model the static displacements of the 2023 Chishang sequence by modelling the static coseismic displacements, using the InSAR, GPS, as well as SM data, to capture complete coseismic deformation and constrain the causative fault geometry for the foreshock and mainshock\n",
    "\n",
    "<img src=\"/Users/olawoyinvictor/Documents/Github/PyRates-reproduc/PyRates-reproduc/Picture1.png\" alt=\"Alt Text\" width=\"300\">\n",
    "\n"
   ]
  },
  {
   "cell_type": "markdown",
   "metadata": {},
   "source": []
  }
 ],
 "metadata": {
  "language_info": {
   "name": "python"
  }
 },
 "nbformat": 4,
 "nbformat_minor": 2
}
